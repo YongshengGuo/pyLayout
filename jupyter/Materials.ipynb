{
 "cells": [
  {
   "cell_type": "markdown",
   "metadata": {},
   "source": [
    "# 频变材料的添加  \n",
    "Djordjevic-Sarkar Model Parameter Calculation\n",
    "The model parameters can be calculated if the following information about the material is known:\n",
    "\n",
    "DC conductivity, sDC (optional; default value is 0)  \n",
    "DC permittivity, eDC (optional; you have to choose the default. See below)  \n",
    "A triplet of real numbers, consisting of  \n",
    "the measurement frequency w1 \n",
    "the real permittivity e1 at this frequency \n",
    "the loss tangent tan d1 at this frequency \n",
    "\n",
    "![Alt text](image-1.png)\n",
    "\n",
    "Relative Permittivity:\n",
    "\n",
    "![Alt text](image-2.png)\n",
    "\n",
    "Conductivity:\n",
    "\n",
    "![Alt text](image-3.png)\n",
    "\n",
    "![Alt text](image-4.png)\n",
    "\n",
    "![Alt text](image-5.png)\n",
    "\n",
    "![Alt text](image-6.png)"
   ]
  },
  {
   "cell_type": "code",
   "execution_count": 1,
   "metadata": {},
   "outputs": [
    {
     "name": "stderr",
     "output_type": "stream",
     "text": [
      "2024/02/01 16:30:31 - INFO: pyLayout Version: V0.6 20231225\n",
      "2024/02/01 16:30:31 - INFO: Intial aedt desktop Ansoft.ElectronicsDesktop.2024.1\n",
      "2024/02/01 16:30:31 - INFO: init design: Project75 : EMDesign1\n",
      "2024/02/01 16:30:31 - INFO: Simulation log recorded in: C:/Users/yguo/OneDrive - ANSYS, Inc/Documents/Ansoft/Project75_EMDesign1.log\n"
     ]
    }
   ],
   "source": [
    "import sys\n",
    "sys.path.append(r\"C:\\work\\Study\\Script\\Ansys\\quickAnalyze\\FastSim\") #添加pyaedt的路径\n",
    "import pyLayout\n",
    "pyLayout.log.setLogLevel(\"INFO\")\n",
    "\n",
    "from pyLayout import Layout\n",
    "# layout = Layout()\n",
    "layout = Layout() #least version\n",
    "# layout.openAedt(r\"C:\\work\\Project\\AE\\Script\\test_pcb\\galileo.aedt\")\n",
    "layout.initDesign()"
   ]
  },
  {
   "cell_type": "markdown",
   "metadata": {},
   "source": [
    "## 方式1：按照HFSS UI设定方式生成 DK+ Conductivity"
   ]
  },
  {
   "cell_type": "code",
   "execution_count": 2,
   "metadata": {},
   "outputs": [
    {
     "name": "stderr",
     "output_type": "stream",
     "text": [
      "2024/02/01 16:30:31 - INFO: Djordjevic-Sarkar Model Parameter:\n",
      "e_infi:3.740755252333763 ,e_delta:0.7481510504667526 ,fA:70403.0168767359 ,fB:159154943091.89536 \n",
      "2024/02/01 16:30:31 - INFO: Djordjevic-Sarkar Model Parameter:\n",
      "DK:3.740755252333763+0.05113411554862952/2*ln((159154943091.89536**2+freq**2)/(70403.0168767359**2+freq**2))\n",
      ",Conductivity:1e-12+2*pi*freq*e0*0.05113411554862952*(atan(freq/70403.0168767359)-atan(freq/159154943091.89536))\n"
     ]
    }
   ],
   "source": [
    "layout.materials.addHFSSDSModle(\"test1\",dk=4.0,df=0.02)"
   ]
  },
  {
   "cell_type": "markdown",
   "metadata": {},
   "source": [
    "对比HFSS生成的材料参数和脚本生成的材料参数，两者完全一致：  \n",
    "Set in HFSS UI:  \n",
    "DK:3.74076+0.0255671*ln((2.53303e+22+Freq*Freq)/(4.95658e+09+Freq*Freq))  \n",
    "Cond:1e-12+2.84472e-12*Freq*(atan(Freq/70403)-atan(Freq/1.59155e+11))  \n",
    "![Alt text](image-7.png)  \n",
    "![Alt text](image-8.png)  \n",
    "\n",
    "Set by Script:  \n",
    "DK:3.740755252333763+0.05113411554862952/2*ln((159154943091.89536**2+freq**2)/(70403.0168767359**2+freq**2)),  \n",
    "DF:1e-12+2*pi*freq*e0*0.05113411554862952*(atan(freq/70403.0168767359)-atan(freq/159154943091.89536))  \n",
    "![Alt text](image-12.png)\n",
    "![Alt text](image-10.png)  "
   ]
  },
  {
   "cell_type": "markdown",
   "metadata": {},
   "source": [
    "## 方式2 按照Djordjevic-Sarkar Model方式进行输入，频变DK+DF \n",
    "![Alt text](image-13.png)  \n",
    "or  \n",
    "![Alt text](image-14.png)\n",
    "\n",
    "可以获取跟HFSS UI设定一致的结果，使用DK/DF形式更加直观  \n",
    "![Alt text](image-15.png)\n",
    "![Alt text](image-16.png)"
   ]
  },
  {
   "cell_type": "code",
   "execution_count": 3,
   "metadata": {},
   "outputs": [
    {
     "name": "stderr",
     "output_type": "stream",
     "text": [
      "2024/02/01 16:30:31 - INFO: Causal material set fA as: 70403.0168767359\n",
      "2024/02/01 16:30:31 - INFO: Djordjevic-Sarkar Model Parameter:\n",
      "e_infi:3.740755252333763 ,e_delta:0.7481510504667526 ,fA:70403.0168767359 ,fB:159154943091.89536 \n",
      "2024/02/01 16:30:31 - INFO: Djordjevic-Sarkar Model Parameter:\n",
      "DK:re(3.740755252333763+0.7481510504667526/ln(1000000000000.0001/442355.20122102345)*ln((1000000000000.0001+1j*2*pi*freq)/(442355.20122102345+1j*2*pi*freq))+1e-12/(1j*2*pi*freq*e0))\n",
      ",DF:-im(3.740755252333763+0.7481510504667526/ln(1000000000000.0001/442355.20122102345)*ln((1000000000000.0001+1j*2*pi*freq)/(442355.20122102345+1j*2*pi*freq))+1e-12/(1j*2*pi*freq*e0))/re(3.740755252333763+0.7481510504667526/ln(1000000000000.0001/442355.20122102345)*ln((1000000000000.0001+1j*2*pi*freq)/(442355.20122102345+1j*2*pi*freq))+1e-12/(1j*2*pi*freq*e0))\n"
     ]
    }
   ],
   "source": [
    "layout.materials.addHFSSDSModle2(\"test2\",dk=4.0,df=0.02)"
   ]
  },
  {
   "cell_type": "markdown",
   "metadata": {},
   "source": [
    "## 方式三，使用Djordjevic-Sarkar Model 的标准形式，\n",
    "直接输入e_infi,e_delta,fA,fB,cond_dc=1e-12"
   ]
  },
  {
   "cell_type": "code",
   "execution_count": 5,
   "metadata": {},
   "outputs": [
    {
     "name": "stderr",
     "output_type": "stream",
     "text": [
      "2024/02/01 16:31:06 - INFO: Djordjevic-Sarkar Model Parameter:\n",
      "e_infi:3.740755252333763 ,e_delta:0.7481510504667526 ,fA:70403.016876735 ,fB:159154943091.89536 \n",
      "2024/02/01 16:31:06 - INFO: Djordjevic-Sarkar Model Parameter:\n",
      "DK:re(3.740755252333763+0.7481510504667526/ln(1000000000000.0001/442355.20122101775)*ln((1000000000000.0001+1j*2*pi*freq)/(442355.20122101775+1j*2*pi*freq))+1e-12/(1j*2*pi*freq*e0))\n",
      ",DF:-im(3.740755252333763+0.7481510504667526/ln(1000000000000.0001/442355.20122101775)*ln((1000000000000.0001+1j*2*pi*freq)/(442355.20122101775+1j*2*pi*freq))+1e-12/(1j*2*pi*freq*e0))/re(3.740755252333763+0.7481510504667526/ln(1000000000000.0001/442355.20122101775)*ln((1000000000000.0001+1j*2*pi*freq)/(442355.20122101775+1j*2*pi*freq))+1e-12/(1j*2*pi*freq*e0))\n"
     ]
    }
   ],
   "source": [
    "layout.materials.addStdDSModel(\"test3\",e_infi=3.740755252333763,e_delta=0.7481510504667526,fA=70403.016876735,fB=159154943091.89536 ,cond_dc=1e-12)"
   ]
  }
 ],
 "metadata": {
  "kernelspec": {
   "display_name": "Python 3",
   "language": "python",
   "name": "python3"
  },
  "language_info": {
   "codemirror_mode": {
    "name": "ipython",
    "version": 3
   },
   "file_extension": ".py",
   "mimetype": "text/x-python",
   "name": "python",
   "nbconvert_exporter": "python",
   "pygments_lexer": "ipython3",
   "version": "3.7.9"
  },
  "orig_nbformat": 4
 },
 "nbformat": 4,
 "nbformat_minor": 2
}
